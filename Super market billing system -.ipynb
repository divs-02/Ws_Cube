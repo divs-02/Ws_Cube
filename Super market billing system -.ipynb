{
 "cells": [
  {
   "cell_type": "code",
   "execution_count": 2,
   "id": "00eff2b4-c81e-4f6d-ab7d-f7cbbfe1ba93",
   "metadata": {},
   "outputs": [
    {
     "name": "stdin",
     "output_type": "stream",
     "text": [
      "Enter item name :  rice \n",
      "Enter quantity:  2\n",
      "Enter price per item:  150\n",
      "Enter item name :  oil\n",
      "Enter quantity:  5\n",
      "Enter price per item:  200\n",
      "Enter item name :  shampoo\n",
      "Enter quantity:  1\n",
      "Enter price per item:  250\n",
      "Enter item name :  done\n"
     ]
    },
    {
     "name": "stdout",
     "output_type": "stream",
     "text": [
      "Extra discount for bill over ₹500: ₹155.00\n",
      "\n",
      "--- ITEMIZED BILL ---\n",
      "Item              Qty      Price      Total     Discount\n",
      "rice                2     150.00     300.00         0.00\n",
      "oil                 5     200.00    1000.00         0.00\n",
      "shampoo             1     250.00     250.00         0.00\n",
      "\n",
      "Subtotal: ₹ 1550.0\n",
      "Total Discount: ₹ 155.0\n",
      "Final Amount Due: ₹ 1395.0\n"
     ]
    }
   ],
   "source": [
    "\"\"\"\n",
    "Interactive Billing System - Multiple Items + Discounts\n",
    "\"\"\"\n",
    "\n",
    "# Initialize variables\n",
    "items = []\n",
    "subtotal = 0\n",
    "total_discount = 0\n",
    "\n",
    "# Input loop\n",
    "while True:\n",
    "    name = input(\"Enter item name : \").strip()\n",
    "    if name.lower() == \"done\":\n",
    "        break\n",
    "\n",
    "    quantity = int(input(\"Enter quantity: \"))\n",
    "    price = float(input(\"Enter price per item: \"))\n",
    "\n",
    "    item_total = quantity * price\n",
    "    discount = 0\n",
    "\n",
    "    # Discount: Milk gets ₹5 off per unit\n",
    "    if name.lower() == \"milk\":\n",
    "        discount = 5 * quantity\n",
    "        print(f\"Milk discount applied: ₹{discount}\")\n",
    "\n",
    "    subtotal += item_total\n",
    "    total_discount += discount\n",
    "    items.append((name, quantity, price, item_total, discount))\n",
    "\n",
    "# Total-based discount\n",
    "if subtotal - total_discount > 500:\n",
    "    extra_discount = (subtotal - total_discount) * 0.10\n",
    "    print(f\"Extra discount for bill over ₹500: ₹{extra_discount:.2f}\")\n",
    "    total_discount += extra_discount\n",
    "\n",
    "final_total = subtotal - total_discount\n",
    "\n",
    "# Print bill\n",
    "print(\"\\n--- ITEMIZED BILL ---\")\n",
    "print(f\"{'Item':15} {'Qty':>5} {'Price':>10} {'Total':>10} {'Discount':>12}\")\n",
    "for name, qty, price, item_total, discount in items:\n",
    "    print(f\"{name:15} {qty:>5} {price:>10.2f} {item_total:>10.2f} {discount:>12.2f}\")\n",
    "\n",
    "print(\"\\nSubtotal: ₹\", round(subtotal, 2))\n",
    "print(\"Total Discount: ₹\", round(total_discount, 2))\n",
    "print(\"Final Amount Due: ₹\", round(final_total, 2))\n"
   ]
  },
  {
   "cell_type": "code",
   "execution_count": null,
   "id": "d60f01df-5f19-4485-bd0a-e3c3ddba97bd",
   "metadata": {},
   "outputs": [],
   "source": []
  }
 ],
 "metadata": {
  "kernelspec": {
   "display_name": "Python 3 (ipykernel)",
   "language": "python",
   "name": "python3"
  },
  "language_info": {
   "codemirror_mode": {
    "name": "ipython",
    "version": 3
   },
   "file_extension": ".py",
   "mimetype": "text/x-python",
   "name": "python",
   "nbconvert_exporter": "python",
   "pygments_lexer": "ipython3",
   "version": "3.12.7"
  }
 },
 "nbformat": 4,
 "nbformat_minor": 5
}
